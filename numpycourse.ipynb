{
  "nbformat": 4,
  "nbformat_minor": 0,
  "metadata": {
    "colab": {
      "provenance": []
    },
    "kernelspec": {
      "name": "python3",
      "display_name": "Python 3"
    },
    "language_info": {
      "name": "python"
    }
  },
  "cells": [
    {
      "cell_type": "code",
      "execution_count": null,
      "metadata": {
        "id": "OEwUWUOE4915"
      },
      "outputs": [],
      "source": [
        "import numpy as np\n"
      ]
    },
    {
      "cell_type": "code",
      "source": [
        "a = np.array([1, 2, 3])\n",
        "r= np.asarray(a, dtype=\"str\")\n",
        "print(r)"
      ],
      "metadata": {
        "colab": {
          "base_uri": "https://localhost:8080/"
        },
        "id": "sfZv42b15Iku",
        "outputId": "b9056361-1c02-4416-d0ec-92393fe1b892"
      },
      "execution_count": null,
      "outputs": [
        {
          "output_type": "stream",
          "name": "stdout",
          "text": [
            "['1' '2' '3']\n"
          ]
        }
      ]
    },
    {
      "cell_type": "code",
      "source": [
        "s=b\"helloooooooooooooooooooo\"\n",
        "z= np.frombuffer(s, dtype=\"int\")\n",
        "print(z)"
      ],
      "metadata": {
        "colab": {
          "base_uri": "https://localhost:8080/"
        },
        "id": "oOjE06da5vun",
        "outputId": "d8dee3c3-3b5e-4a2c-d2f9-bf4d57c5cb6d"
      },
      "execution_count": null,
      "outputs": [
        {
          "output_type": "stream",
          "name": "stdout",
          "text": [
            "[8029759184975979880 8029759185026510703 8029759185026510703]\n"
          ]
        }
      ]
    },
    {
      "cell_type": "code",
      "source": [
        "s = [1,2,3,4,5]\n",
        "z = np.fromiter(s, dtype=int)\n",
        "print(z)"
      ],
      "metadata": {
        "colab": {
          "base_uri": "https://localhost:8080/"
        },
        "id": "qNhuePRf78ea",
        "outputId": "1686d72d-2660-4871-ea9b-f9989487de9b"
      },
      "execution_count": null,
      "outputs": [
        {
          "output_type": "stream",
          "name": "stdout",
          "text": [
            "[1 2 3 4 5]\n"
          ]
        }
      ]
    },
    {
      "cell_type": "code",
      "source": [
        "a = np.arange(0,10,2)\n",
        "print(a)"
      ],
      "metadata": {
        "colab": {
          "base_uri": "https://localhost:8080/"
        },
        "id": "kAez5rUtErLL",
        "outputId": "a35a9996-b03c-45f3-bd27-33a413fe335d"
      },
      "execution_count": null,
      "outputs": [
        {
          "output_type": "stream",
          "name": "stdout",
          "text": [
            "[0 2 4 6 8]\n"
          ]
        }
      ]
    },
    {
      "cell_type": "code",
      "source": [
        "a = np.linspace(0,10,3,endpoint=False,retstep=True,dtype=int)\n",
        "print(a)"
      ],
      "metadata": {
        "colab": {
          "base_uri": "https://localhost:8080/"
        },
        "id": "LR495EmCE2ip",
        "outputId": "5265d7e8-bbec-4f66-d1d0-afded2ba6bb7"
      },
      "execution_count": null,
      "outputs": [
        {
          "output_type": "stream",
          "name": "stdout",
          "text": [
            "(array([0, 3, 6]), 3.3333333333333335)\n"
          ]
        }
      ]
    },
    {
      "cell_type": "code",
      "source": [
        "a = np.logspace(10,10000,num=4,base=10)\n",
        "print(a)"
      ],
      "metadata": {
        "colab": {
          "base_uri": "https://localhost:8080/"
        },
        "id": "PMB9y16nTjMs",
        "outputId": "d93ef93f-1bc5-46f0-9bef-fc5475eaeb6f"
      },
      "execution_count": null,
      "outputs": [
        {
          "output_type": "stream",
          "name": "stdout",
          "text": [
            "[1.e+10    inf    inf    inf]\n"
          ]
        },
        {
          "output_type": "stream",
          "name": "stderr",
          "text": [
            "/usr/local/lib/python3.10/dist-packages/numpy/core/function_base.py:298: RuntimeWarning: overflow encountered in power\n",
            "  return _nx.power(base, y)\n"
          ]
        }
      ]
    },
    {
      "cell_type": "code",
      "source": [
        "import numpy as np\n",
        "x= np.zeros((2,3),dtype=int)\n",
        "print(x)"
      ],
      "metadata": {
        "colab": {
          "base_uri": "https://localhost:8080/"
        },
        "id": "kPkgEgr0l1A3",
        "outputId": "63e98629-70a6-4a7f-aa11-a42e131a33a7"
      },
      "execution_count": null,
      "outputs": [
        {
          "output_type": "stream",
          "name": "stdout",
          "text": [
            "[[0 0 0]\n",
            " [0 0 0]]\n"
          ]
        }
      ]
    },
    {
      "cell_type": "code",
      "source": [
        "x=np.full((2,3),5,dtype=float)\n",
        "print(x)"
      ],
      "metadata": {
        "colab": {
          "base_uri": "https://localhost:8080/"
        },
        "id": "iL-UDrfTmZ2p",
        "outputId": "99f8873e-2c13-4fb6-f6a1-6eb6020a29f5"
      },
      "execution_count": null,
      "outputs": [
        {
          "output_type": "stream",
          "name": "stdout",
          "text": [
            "[[5. 5. 5.]\n",
            " [5. 5. 5.]]\n"
          ]
        }
      ]
    },
    {
      "cell_type": "code",
      "source": [
        "x=np.eye(3,dtype=int)\n",
        "print(x)"
      ],
      "metadata": {
        "colab": {
          "base_uri": "https://localhost:8080/"
        },
        "id": "nRQzDKhknGOW",
        "outputId": "6b110956-b6b0-48d4-b3ee-e62a55ac8d12"
      },
      "execution_count": null,
      "outputs": [
        {
          "output_type": "stream",
          "name": "stdout",
          "text": [
            "[[1 0 0]\n",
            " [0 1 0]\n",
            " [0 0 1]]\n"
          ]
        }
      ]
    },
    {
      "cell_type": "code",
      "source": [
        "x=np.array([[1,2,3],[4,5,6]])\n",
        "print(np.shape(x))"
      ],
      "metadata": {
        "colab": {
          "base_uri": "https://localhost:8080/"
        },
        "id": "TzwoMeAfnTqV",
        "outputId": "58feb48b-ad13-490e-8db3-6fb668575f54"
      },
      "execution_count": null,
      "outputs": [
        {
          "output_type": "stream",
          "name": "stdout",
          "text": [
            "(2, 3)\n"
          ]
        }
      ]
    },
    {
      "cell_type": "code",
      "source": [
        "x=np.array([[1,2,3],[4,5,6]])\n",
        "print(np.reshape(x,(3,2)))"
      ],
      "metadata": {
        "colab": {
          "base_uri": "https://localhost:8080/"
        },
        "id": "LYnVoo37nhzh",
        "outputId": "1364254f-0038-4036-d202-5fe4276aac51"
      },
      "execution_count": null,
      "outputs": [
        {
          "output_type": "stream",
          "name": "stdout",
          "text": [
            "[[1 2]\n",
            " [3 4]\n",
            " [5 6]]\n"
          ]
        }
      ]
    },
    {
      "cell_type": "code",
      "source": [
        "import numpy as np\n",
        "x = np.array([[1,2,3],[4,5,6]])\n",
        "print(x[0,2])"
      ],
      "metadata": {
        "colab": {
          "base_uri": "https://localhost:8080/"
        },
        "id": "3saN2stWk6-S",
        "outputId": "5d906edb-072f-4fde-8e0f-b2cb8fb000a7"
      },
      "execution_count": null,
      "outputs": [
        {
          "output_type": "stream",
          "name": "stdout",
          "text": [
            "3\n"
          ]
        }
      ]
    },
    {
      "cell_type": "code",
      "source": [
        "x=np.array([[1,2,3],[4,5,6]])\n",
        "print(x[0:2,1])"
      ],
      "metadata": {
        "colab": {
          "base_uri": "https://localhost:8080/"
        },
        "id": "AJE-YbMepTd-",
        "outputId": "5c9c3a15-e1d7-441b-a78b-e6f1ee4e1536"
      },
      "execution_count": null,
      "outputs": [
        {
          "output_type": "stream",
          "name": "stdout",
          "text": [
            "[2 5]\n"
          ]
        }
      ]
    },
    {
      "cell_type": "code",
      "source": [
        "x=np.array([1,2,3,4,5,6])\n",
        "print(x[::2])"
      ],
      "metadata": {
        "colab": {
          "base_uri": "https://localhost:8080/"
        },
        "id": "6tuTWq4UpeyV",
        "outputId": "a278edac-8fb2-410f-92bf-d7565e82e2c3"
      },
      "execution_count": null,
      "outputs": [
        {
          "output_type": "stream",
          "name": "stdout",
          "text": [
            "[1 3 5]\n"
          ]
        }
      ]
    },
    {
      "cell_type": "code",
      "source": [
        "import numpy as np\n",
        "x =np.array([1,2,3,4,5],dtype=\"S\")\n",
        "print(x)\n"
      ],
      "metadata": {
        "colab": {
          "base_uri": "https://localhost:8080/"
        },
        "id": "FKqN12-wz1JE",
        "outputId": "e89a9acc-4e3f-4eb9-ec20-fab252d570b7"
      },
      "execution_count": null,
      "outputs": [
        {
          "output_type": "stream",
          "name": "stdout",
          "text": [
            "[b'1' b'2' b'3' b'4' b'5']\n"
          ]
        }
      ]
    },
    {
      "cell_type": "code",
      "source": [
        "import numpy as np\n",
        "x =np.array([1,2,3,4,5])\n",
        "y=x.astype(\"U\")\n",
        "print(y)"
      ],
      "metadata": {
        "colab": {
          "base_uri": "https://localhost:8080/"
        },
        "id": "X-lYzt4z0aK8",
        "outputId": "1b1c9d5e-c183-456d-d7fc-0e149555036a"
      },
      "execution_count": null,
      "outputs": [
        {
          "output_type": "stream",
          "name": "stdout",
          "text": [
            "['1' '2' '3' '4' '5']\n"
          ]
        }
      ]
    },
    {
      "cell_type": "code",
      "source": [
        "import numpy as np\n",
        "x =np.array([1,2,3,4,5])\n",
        "y=x.copy()\n",
        "y[0]=4\n",
        "print(x)\n",
        "print(y)"
      ],
      "metadata": {
        "colab": {
          "base_uri": "https://localhost:8080/"
        },
        "id": "xmCdPtSv0qd4",
        "outputId": "a36d134c-f436-4d25-8cec-313e6ff71b31"
      },
      "execution_count": null,
      "outputs": [
        {
          "output_type": "stream",
          "name": "stdout",
          "text": [
            "[1 2 3 4 5]\n",
            "[4 2 3 4 5]\n"
          ]
        }
      ]
    },
    {
      "cell_type": "code",
      "source": [
        "import numpy as np\n",
        "x =np.array([1,2,3,4,5])\n",
        "y=x.view()\n",
        "y[0]=4\n",
        "print(x)\n",
        "print(y)"
      ],
      "metadata": {
        "colab": {
          "base_uri": "https://localhost:8080/"
        },
        "id": "97IyUn2W00H-",
        "outputId": "c453316f-32f6-445a-8145-eb13b53dee8a"
      },
      "execution_count": null,
      "outputs": [
        {
          "output_type": "stream",
          "name": "stdout",
          "text": [
            "[4 2 3 4 5]\n",
            "[4 2 3 4 5]\n"
          ]
        }
      ]
    },
    {
      "cell_type": "code",
      "source": [
        "import numpy as np\n",
        "x=np.arange(0,4).reshape(2,2)\n",
        "y=np.arange(0,4).reshape(2,2)\n",
        "z=np.concatenate((x,y),axis=1)\n",
        "print(z)\n",
        "\n"
      ],
      "metadata": {
        "colab": {
          "base_uri": "https://localhost:8080/"
        },
        "id": "FvSPXnfu35gk",
        "outputId": "d1ddb3ce-5d31-4097-fa1f-476b6e296c9d"
      },
      "execution_count": null,
      "outputs": [
        {
          "output_type": "stream",
          "name": "stdout",
          "text": [
            "[[0 1 0 1]\n",
            " [2 3 2 3]]\n"
          ]
        }
      ]
    },
    {
      "cell_type": "code",
      "source": [
        "import numpy as np\n",
        "x=np.arange(0,4).reshape(2,2)\n",
        "y=np.arange(0,4).reshape(2,2)\n",
        "z=np.stack((x,y),axis=1)\n",
        "print(z)"
      ],
      "metadata": {
        "colab": {
          "base_uri": "https://localhost:8080/"
        },
        "id": "9Y99D5Vp5io9",
        "outputId": "88de787b-7dd3-473e-f7fa-138ba291b113"
      },
      "execution_count": null,
      "outputs": [
        {
          "output_type": "stream",
          "name": "stdout",
          "text": [
            "[[[0 1]\n",
            "  [0 1]]\n",
            "\n",
            " [[2 3]\n",
            "  [2 3]]]\n"
          ]
        }
      ]
    },
    {
      "cell_type": "code",
      "source": [
        "import numpy as np\n",
        "x=np.arange(0,4).reshape(2,2)\n",
        "y=np.arange(0,4).reshape(2,2)\n",
        "z=np.hstack((x,y))\n",
        "print(z)"
      ],
      "metadata": {
        "colab": {
          "base_uri": "https://localhost:8080/"
        },
        "id": "yMOgobb35t99",
        "outputId": "abfe7447-a2b7-4d28-bf08-930d219d44cf"
      },
      "execution_count": null,
      "outputs": [
        {
          "output_type": "stream",
          "name": "stdout",
          "text": [
            "[[0 1 0 1]\n",
            " [2 3 2 3]]\n"
          ]
        }
      ]
    },
    {
      "cell_type": "code",
      "source": [
        "import numpy as np\n",
        "x=np.arange(0,4).reshape(2,2)\n",
        "y=np.arange(0,4).reshape(2,2)\n",
        "z=np.vstack((x,y))\n",
        "print(z)"
      ],
      "metadata": {
        "colab": {
          "base_uri": "https://localhost:8080/"
        },
        "id": "plaPygUQ5xjF",
        "outputId": "eee7925c-f74a-43ab-8656-e168983cbf1d"
      },
      "execution_count": null,
      "outputs": [
        {
          "output_type": "stream",
          "name": "stdout",
          "text": [
            "[[0 1]\n",
            " [2 3]\n",
            " [0 1]\n",
            " [2 3]]\n"
          ]
        }
      ]
    },
    {
      "cell_type": "code",
      "source": [
        "import numpy as np\n",
        "a=np.arange(10)\n",
        "print(a,\"\\n\")\n",
        "b=np.array_split(a,3)\n",
        "print(b,\"\\n\")\n",
        "c=np.split(a,5)\n",
        "print(c,\"\\n\")\n",
        "d=np.hsplit(a,5)\n",
        "print(d,\"\\n\")\n",
        "z=np.arange(8).reshape(2,4)\n",
        "e=np.vsplit(z,2)\n",
        "print(e)"
      ],
      "metadata": {
        "colab": {
          "base_uri": "https://localhost:8080/"
        },
        "id": "iwldaHxzemDN",
        "outputId": "a19db0bf-da50-494c-8ae1-a9af67ce9a75"
      },
      "execution_count": null,
      "outputs": [
        {
          "output_type": "stream",
          "name": "stdout",
          "text": [
            "[0 1 2 3 4 5 6 7 8 9] \n",
            "\n",
            "[array([0, 1, 2, 3]), array([4, 5, 6]), array([7, 8, 9])] \n",
            "\n",
            "[array([0, 1]), array([2, 3]), array([4, 5]), array([6, 7]), array([8, 9])] \n",
            "\n",
            "[array([0, 1]), array([2, 3]), array([4, 5]), array([6, 7]), array([8, 9])] \n",
            "\n",
            "[array([[0, 1, 2, 3]]), array([[4, 5, 6, 7]])]\n"
          ]
        }
      ]
    },
    {
      "cell_type": "code",
      "source": [
        "import numpy as np\n",
        "a=np.arange(10)\n",
        "print(a)\n",
        "x=np.where(a==5)\n",
        "print(x)\n"
      ],
      "metadata": {
        "colab": {
          "base_uri": "https://localhost:8080/"
        },
        "id": "DkD5kidk8ZuY",
        "outputId": "e29b6e07-7aee-4b39-c7c9-5a6d5a66b257"
      },
      "execution_count": null,
      "outputs": [
        {
          "output_type": "stream",
          "name": "stdout",
          "text": [
            "[0 1 2 3 4 5 6 7 8 9]\n",
            "(array([5]),)\n"
          ]
        }
      ]
    },
    {
      "cell_type": "code",
      "source": [
        "a=np.arange(10)\n",
        "print(a)\n",
        "x=np.searchsorted(a,5)\n",
        "print(x)"
      ],
      "metadata": {
        "colab": {
          "base_uri": "https://localhost:8080/"
        },
        "id": "D0lp1wYB80ln",
        "outputId": "675e3a2e-6867-4871-81b3-bfebfe74c143"
      },
      "execution_count": null,
      "outputs": [
        {
          "output_type": "stream",
          "name": "stdout",
          "text": [
            "[0 1 2 3 4 5 6 7 8 9]\n",
            "5\n"
          ]
        }
      ]
    },
    {
      "cell_type": "code",
      "source": [
        "import numpy as np\n",
        "a=np.arange(4)\n",
        "print(a)\n",
        "x=np.searchsorted(a,15)\n",
        "print(x)"
      ],
      "metadata": {
        "colab": {
          "base_uri": "https://localhost:8080/"
        },
        "id": "n7GLOgFz8-Rm",
        "outputId": "627b0312-3da0-487e-b8f2-5ec338807f9f"
      },
      "execution_count": null,
      "outputs": [
        {
          "output_type": "stream",
          "name": "stdout",
          "text": [
            "[0 1 2 3]\n",
            "4\n"
          ]
        }
      ]
    },
    {
      "cell_type": "code",
      "source": [
        "import numpy as np\n",
        "a=np.dtype([('name','S20'),('age','i1'),('marks','f4')])\n",
        "print(a)\n",
        "x=np.array([('abc','20','56'),('efg','25','59')])\n",
        "print(x)\n",
        "z=np.sort(x)\n",
        "print(z)\n"
      ],
      "metadata": {
        "colab": {
          "base_uri": "https://localhost:8080/"
        },
        "id": "HWJaIryT-IPo",
        "outputId": "1325ea77-eede-49c0-c6cb-1de8761db3f8"
      },
      "execution_count": null,
      "outputs": [
        {
          "output_type": "stream",
          "name": "stdout",
          "text": [
            "[('name', 'S20'), ('age', 'i1'), ('marks', '<f4')]\n",
            "[['abc' '20' '56']\n",
            " ['efg' '25' '59']]\n",
            "[['20' '56' 'abc']\n",
            " ['25' '59' 'efg']]\n"
          ]
        }
      ]
    },
    {
      "cell_type": "code",
      "source": [
        "import numpy as np\n",
        "a=np.arange(1,7).reshape(2,3)\n",
        "b=np.arange(7,13).reshape(2,3)\n",
        "print(a,\"\\n\")\n",
        "print(b,\"\\n\")\n",
        "z=np.add(a,b)\n",
        "print(z,\"\\n\")\n",
        "z=np.subtract(b,a)\n",
        "print(z,\"\\n\")\n",
        "z=np.multiply(b,a)\n",
        "print(z,\"\\n\")\n",
        "z=np.divide(b,a)\n",
        "print(z)\n"
      ],
      "metadata": {
        "colab": {
          "base_uri": "https://localhost:8080/"
        },
        "id": "Ss7s0AWCs2Vg",
        "outputId": "a22b79d5-9d2d-4fe3-ac6d-2f5e413d7291"
      },
      "execution_count": null,
      "outputs": [
        {
          "output_type": "stream",
          "name": "stdout",
          "text": [
            "[[1 2 3]\n",
            " [4 5 6]] \n",
            "\n",
            "[[ 7  8  9]\n",
            " [10 11 12]] \n",
            "\n",
            "[[ 8 10 12]\n",
            " [14 16 18]] \n",
            "\n",
            "[[6 6 6]\n",
            " [6 6 6]] \n",
            "\n",
            "[[ 7 16 27]\n",
            " [40 55 72]] \n",
            "\n",
            "[[7.  4.  3. ]\n",
            " [2.5 2.2 2. ]]\n"
          ]
        }
      ]
    },
    {
      "cell_type": "code",
      "source": [
        "import numpy as np\n",
        "a=np.arange(9).reshape(3,3)\n",
        "print(np.amax(a))\n",
        "print(np.amin(a))\n",
        "print(np.average(a))\n",
        "print(np.median(a))\n"
      ],
      "metadata": {
        "colab": {
          "base_uri": "https://localhost:8080/"
        },
        "id": "P8eX9G922oM8",
        "outputId": "aa6dcf1e-a0f5-49b2-dd78-ae2644c928a2"
      },
      "execution_count": null,
      "outputs": [
        {
          "output_type": "stream",
          "name": "stdout",
          "text": [
            "8\n",
            "0\n",
            "4.0\n",
            "4.0\n"
          ]
        }
      ]
    },
    {
      "cell_type": "code",
      "source": [
        "x=0\n",
        "for i in range(9):\n",
        "    x=x+i\n",
        "print(x)\n",
        "z=x/9\n",
        "print(z)"
      ],
      "metadata": {
        "colab": {
          "base_uri": "https://localhost:8080/"
        },
        "id": "cEeH78yW3Pzd",
        "outputId": "645cb813-54fa-4a31-eff6-d3fdf66caa3c"
      },
      "execution_count": null,
      "outputs": [
        {
          "output_type": "stream",
          "name": "stdout",
          "text": [
            "36\n",
            "4.0\n"
          ]
        }
      ]
    }
  ]
}